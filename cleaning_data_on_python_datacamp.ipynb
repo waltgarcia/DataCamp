{
  "nbformat": 4,
  "nbformat_minor": 0,
  "metadata": {
    "colab": {
      "provenance": []
    },
    "kernelspec": {
      "name": "python3",
      "display_name": "Python 3"
    },
    "language_info": {
      "name": "python"
    }
  },
  "cells": [
    {
      "cell_type": "markdown",
      "source": [
        "# Data constraints"
      ],
      "metadata": {
        "id": "wS5wztabfGyN"
      }
    },
    {
      "cell_type": "markdown",
      "source": [
        "## Data range example"
      ],
      "metadata": {
        "id": "DBRACj2DfKJm"
      }
    },
    {
      "cell_type": "code",
      "source": [
        "import datetime as dt\n",
        "import pandas as pd\n",
        "#user.signups.dtypes"
      ],
      "metadata": {
        "id": "Dy2yUyhQfIC4"
      },
      "execution_count": null,
      "outputs": []
    },
    {
      "cell_type": "code",
      "source": [
        "# convert to date\n",
        "user_signups[\"subscription_date\"] = pd.to_datetime(user_signups[\"subscription_date\"]).dt.date"
      ],
      "metadata": {
        "colab": {
          "base_uri": "https://localhost:8080/",
          "height": 183
        },
        "id": "SsoUCpc2fOkg",
        "outputId": "12233c14-d3ed-43f6-b2d3-a49d291f0422"
      },
      "execution_count": null,
      "outputs": [
        {
          "output_type": "error",
          "ename": "NameError",
          "evalue": "ignored",
          "traceback": [
            "\u001b[0;31m---------------------------------------------------------------------------\u001b[0m",
            "\u001b[0;31mNameError\u001b[0m                                 Traceback (most recent call last)",
            "\u001b[0;32m<ipython-input-7-2f0728455305>\u001b[0m in \u001b[0;36m<cell line: 2>\u001b[0;34m()\u001b[0m\n\u001b[1;32m      1\u001b[0m \u001b[0;31m# convert to date\u001b[0m\u001b[0;34m\u001b[0m\u001b[0;34m\u001b[0m\u001b[0m\n\u001b[0;32m----> 2\u001b[0;31m \u001b[0muser_signups\u001b[0m\u001b[0;34m[\u001b[0m\u001b[0;34m\"subscription_date\"\u001b[0m\u001b[0;34m]\u001b[0m \u001b[0;34m=\u001b[0m \u001b[0mpd\u001b[0m\u001b[0;34m.\u001b[0m\u001b[0mto_datetime\u001b[0m\u001b[0;34m(\u001b[0m\u001b[0muser_signups\u001b[0m\u001b[0;34m[\u001b[0m\u001b[0;34m\"subscription_date\"\u001b[0m\u001b[0;34m]\u001b[0m\u001b[0;34m)\u001b[0m\u001b[0;34m.\u001b[0m\u001b[0mdt\u001b[0m\u001b[0;34m.\u001b[0m\u001b[0mdate\u001b[0m\u001b[0;34m\u001b[0m\u001b[0;34m\u001b[0m\u001b[0m\n\u001b[0m",
            "\u001b[0;31mNameError\u001b[0m: name 'user_signups' is not defined"
          ]
        }
      ]
    },
    {
      "cell_type": "markdown",
      "source": [
        "### Instructions\n",
        "- Convert the tire_sizes column from category to 'int'.\n",
        "- Use .loc[] to set all values of tire_sizes above 27 to 27.\n",
        "- Reconvert back tire_sizes to 'category' from int.\n",
        "- Print the description of the tire_sizes."
      ],
      "metadata": {
        "id": "hyP0go4ehV01"
      }
    },
    {
      "cell_type": "code",
      "source": [
        "# Convert tire_sizes to integer\n",
        "ride_sharing['tire_sizes'] = ride_sharing['tire_sizes'].astype('int')\n",
        "\n",
        "# Set all values above 27 to 27\n",
        "ride_sharing.loc[ride_sharing['tire_sizes'] > 27, 'tire_sizes'] = 27\n",
        "\n",
        "# Reconvert tire_sizes back to categorical\n",
        "ride_sharing['tire_sizes'] = ride_sharing['tire_sizes'].astype('category')\n",
        "\n",
        "# Print tire size description\n",
        "print(ride_sharing['tire_sizes'].describe())"
      ],
      "metadata": {
        "colab": {
          "base_uri": "https://localhost:8080/",
          "height": 235
        },
        "id": "9AkgtTF5hbG9",
        "outputId": "6c624c86-45eb-4148-c135-fb8343b7c0f6"
      },
      "execution_count": null,
      "outputs": [
        {
          "output_type": "error",
          "ename": "NameError",
          "evalue": "ignored",
          "traceback": [
            "\u001b[0;31m---------------------------------------------------------------------------\u001b[0m",
            "\u001b[0;31mNameError\u001b[0m                                 Traceback (most recent call last)",
            "\u001b[0;32m<ipython-input-8-a2367fb8d266>\u001b[0m in \u001b[0;36m<cell line: 2>\u001b[0;34m()\u001b[0m\n\u001b[1;32m      1\u001b[0m \u001b[0;31m# Convert tire_sizes to integer\u001b[0m\u001b[0;34m\u001b[0m\u001b[0;34m\u001b[0m\u001b[0m\n\u001b[0;32m----> 2\u001b[0;31m \u001b[0mride_sharing\u001b[0m\u001b[0;34m[\u001b[0m\u001b[0;34m'tire_sizes'\u001b[0m\u001b[0;34m]\u001b[0m \u001b[0;34m=\u001b[0m \u001b[0mride_sharing\u001b[0m\u001b[0;34m[\u001b[0m\u001b[0;34m'tire_sizes'\u001b[0m\u001b[0;34m]\u001b[0m\u001b[0;34m.\u001b[0m\u001b[0mastype\u001b[0m\u001b[0;34m(\u001b[0m\u001b[0;34m'int'\u001b[0m\u001b[0;34m)\u001b[0m\u001b[0;34m\u001b[0m\u001b[0;34m\u001b[0m\u001b[0m\n\u001b[0m\u001b[1;32m      3\u001b[0m \u001b[0;34m\u001b[0m\u001b[0m\n\u001b[1;32m      4\u001b[0m \u001b[0;31m# Set all values above 27 to 27\u001b[0m\u001b[0;34m\u001b[0m\u001b[0;34m\u001b[0m\u001b[0m\n\u001b[1;32m      5\u001b[0m \u001b[0mride_sharing\u001b[0m\u001b[0;34m.\u001b[0m\u001b[0mloc\u001b[0m\u001b[0;34m[\u001b[0m\u001b[0mride_sharing\u001b[0m\u001b[0;34m[\u001b[0m\u001b[0;34m'tire_sizes'\u001b[0m\u001b[0;34m]\u001b[0m \u001b[0;34m>\u001b[0m \u001b[0;36m27\u001b[0m\u001b[0;34m,\u001b[0m \u001b[0;34m'tire_sizes'\u001b[0m\u001b[0;34m]\u001b[0m \u001b[0;34m=\u001b[0m \u001b[0;36m27\u001b[0m\u001b[0;34m\u001b[0m\u001b[0;34m\u001b[0m\u001b[0m\n",
            "\u001b[0;31mNameError\u001b[0m: name 'ride_sharing' is not defined"
          ]
        }
      ]
    },
    {
      "cell_type": "markdown",
      "source": [
        "### Instructions\n",
        "- Create the variable today, which stores today's date by using the dt.date.today() function.\n",
        "- For all instances of ride_dt in the future, set them to today's date.\n",
        "- Print the maximum date in the ride_dt column."
      ],
      "metadata": {
        "id": "WzkcvEaxjtzf"
      }
    },
    {
      "cell_type": "code",
      "source": [
        "# Convert ride_date to date\n",
        "ride_sharing['ride_dt'] = pd.to_datetime(ride_sharing['ride_date']).dt.date\n",
        "\n",
        "# Save today's date\n",
        "today = dt.date.today()\n",
        "\n",
        "# Set all in the future to today's date\n",
        "ride_sharing.loc[ride_sharing['ride_dt'] > today, 'ride_dt'] = today\n",
        "\n",
        "# Print maximum of ride_dt column\n",
        "print(ride_sharing['ride_dt'].max())"
      ],
      "metadata": {
        "colab": {
          "base_uri": "https://localhost:8080/",
          "height": 235
        },
        "id": "9m-jCcVehffa",
        "outputId": "4dfec3e9-5bee-451c-f79c-0c66f948f832"
      },
      "execution_count": null,
      "outputs": [
        {
          "output_type": "error",
          "ename": "NameError",
          "evalue": "ignored",
          "traceback": [
            "\u001b[0;31m---------------------------------------------------------------------------\u001b[0m",
            "\u001b[0;31mNameError\u001b[0m                                 Traceback (most recent call last)",
            "\u001b[0;32m<ipython-input-9-79d3aa7adb5b>\u001b[0m in \u001b[0;36m<cell line: 2>\u001b[0;34m()\u001b[0m\n\u001b[1;32m      1\u001b[0m \u001b[0;31m# Convert ride_date to date\u001b[0m\u001b[0;34m\u001b[0m\u001b[0;34m\u001b[0m\u001b[0m\n\u001b[0;32m----> 2\u001b[0;31m \u001b[0mride_sharing\u001b[0m\u001b[0;34m[\u001b[0m\u001b[0;34m'ride_dt'\u001b[0m\u001b[0;34m]\u001b[0m \u001b[0;34m=\u001b[0m \u001b[0mpd\u001b[0m\u001b[0;34m.\u001b[0m\u001b[0mto_datetime\u001b[0m\u001b[0;34m(\u001b[0m\u001b[0mride_sharing\u001b[0m\u001b[0;34m[\u001b[0m\u001b[0;34m'ride_date'\u001b[0m\u001b[0;34m]\u001b[0m\u001b[0;34m)\u001b[0m\u001b[0;34m.\u001b[0m\u001b[0mdt\u001b[0m\u001b[0;34m.\u001b[0m\u001b[0mdate\u001b[0m\u001b[0;34m\u001b[0m\u001b[0;34m\u001b[0m\u001b[0m\n\u001b[0m\u001b[1;32m      3\u001b[0m \u001b[0;34m\u001b[0m\u001b[0m\n\u001b[1;32m      4\u001b[0m \u001b[0;31m# Save today's date\u001b[0m\u001b[0;34m\u001b[0m\u001b[0;34m\u001b[0m\u001b[0m\n\u001b[1;32m      5\u001b[0m \u001b[0mtoday\u001b[0m \u001b[0;34m=\u001b[0m \u001b[0mdt\u001b[0m\u001b[0;34m.\u001b[0m\u001b[0mdate\u001b[0m\u001b[0;34m.\u001b[0m\u001b[0mtoday\u001b[0m\u001b[0;34m(\u001b[0m\u001b[0;34m)\u001b[0m\u001b[0;34m\u001b[0m\u001b[0;34m\u001b[0m\u001b[0m\n",
            "\u001b[0;31mNameError\u001b[0m: name 'ride_sharing' is not defined"
          ]
        }
      ]
    },
    {
      "cell_type": "markdown",
      "source": [
        "## How to find duplicate values?"
      ],
      "metadata": {
        "id": "DIEV-lwxkNoy"
      }
    },
    {
      "cell_type": "code",
      "source": [
        "height_weight.head()"
      ],
      "metadata": {
        "colab": {
          "base_uri": "https://localhost:8080/",
          "height": 165
        },
        "id": "cgXMYwHqkPd0",
        "outputId": "e90b816b-4817-4636-a7d8-ca8fd0589d91"
      },
      "execution_count": null,
      "outputs": [
        {
          "output_type": "error",
          "ename": "NameError",
          "evalue": "ignored",
          "traceback": [
            "\u001b[0;31m---------------------------------------------------------------------------\u001b[0m",
            "\u001b[0;31mNameError\u001b[0m                                 Traceback (most recent call last)",
            "\u001b[0;32m<ipython-input-10-e2b33567cfef>\u001b[0m in \u001b[0;36m<cell line: 1>\u001b[0;34m()\u001b[0m\n\u001b[0;32m----> 1\u001b[0;31m \u001b[0mheight_weight\u001b[0m\u001b[0;34m.\u001b[0m\u001b[0mhead\u001b[0m\u001b[0;34m(\u001b[0m\u001b[0;34m)\u001b[0m\u001b[0;34m\u001b[0m\u001b[0;34m\u001b[0m\u001b[0m\n\u001b[0m",
            "\u001b[0;31mNameError\u001b[0m: name 'height_weight' is not defined"
          ]
        }
      ]
    },
    {
      "cell_type": "code",
      "source": [
        "#get duplicates across all columns\n",
        "duplicates = height_weight.duplicated()\n",
        "print(duplicates)"
      ],
      "metadata": {
        "colab": {
          "base_uri": "https://localhost:8080/",
          "height": 200
        },
        "id": "ggmvwRLnkQ_M",
        "outputId": "5fb76aa3-79c2-4a50-f33a-d0d8045c7f04"
      },
      "execution_count": null,
      "outputs": [
        {
          "output_type": "error",
          "ename": "NameError",
          "evalue": "ignored",
          "traceback": [
            "\u001b[0;31m---------------------------------------------------------------------------\u001b[0m",
            "\u001b[0;31mNameError\u001b[0m                                 Traceback (most recent call last)",
            "\u001b[0;32m<ipython-input-11-2a6d42a21739>\u001b[0m in \u001b[0;36m<cell line: 2>\u001b[0;34m()\u001b[0m\n\u001b[1;32m      1\u001b[0m \u001b[0;31m#get duplicates across all columns\u001b[0m\u001b[0;34m\u001b[0m\u001b[0;34m\u001b[0m\u001b[0m\n\u001b[0;32m----> 2\u001b[0;31m \u001b[0mduplicates\u001b[0m \u001b[0;34m=\u001b[0m \u001b[0mheight_weight\u001b[0m\u001b[0;34m.\u001b[0m\u001b[0mduplicated\u001b[0m\u001b[0;34m(\u001b[0m\u001b[0;34m)\u001b[0m\u001b[0;34m\u001b[0m\u001b[0;34m\u001b[0m\u001b[0m\n\u001b[0m\u001b[1;32m      3\u001b[0m \u001b[0mprint\u001b[0m\u001b[0;34m(\u001b[0m\u001b[0mduplicates\u001b[0m\u001b[0;34m)\u001b[0m\u001b[0;34m\u001b[0m\u001b[0;34m\u001b[0m\u001b[0m\n",
            "\u001b[0;31mNameError\u001b[0m: name 'height_weight' is not defined"
          ]
        }
      ]
    },
    {
      "cell_type": "code",
      "source": [
        "#get duplicated rows\n",
        "duplicates = height_weight.duplicated()\n",
        "height_weight[duplicates]"
      ],
      "metadata": {
        "id": "w8tsD0SikbvE"
      },
      "execution_count": null,
      "outputs": []
    },
    {
      "cell_type": "code",
      "source": [
        "#columns names to check for duplication\n",
        "column_names = [\"first_name\", \"last_name\", \"address\"]\n",
        "duplicates = height_weight.duplicated(subset= column_names, keep = False)"
      ],
      "metadata": {
        "id": "QMMcc-fik4M2"
      },
      "execution_count": null,
      "outputs": []
    },
    {
      "cell_type": "code",
      "source": [
        "height_weight[duplicates].sort_values(by = \"first_name\")"
      ],
      "metadata": {
        "id": "O7Liu4DPmwHs"
      },
      "execution_count": null,
      "outputs": []
    },
    {
      "cell_type": "markdown",
      "source": [
        "### How to treat duplicate values?\n",
        "- The .drop_duplicates() method"
      ],
      "metadata": {
        "id": "4GThDGuJm_dw"
      }
    },
    {
      "cell_type": "code",
      "source": [
        "#drop duplicates\n",
        "height_weight.drop_duplicates(inplace = True)"
      ],
      "metadata": {
        "colab": {
          "base_uri": "https://localhost:8080/",
          "height": 183
        },
        "id": "YSRCn50YnE8E",
        "outputId": "039c6047-58ed-4f05-8f41-28c0e12364f1"
      },
      "execution_count": null,
      "outputs": [
        {
          "output_type": "error",
          "ename": "NameError",
          "evalue": "ignored",
          "traceback": [
            "\u001b[0;31m---------------------------------------------------------------------------\u001b[0m",
            "\u001b[0;31mNameError\u001b[0m                                 Traceback (most recent call last)",
            "\u001b[0;32m<ipython-input-12-061bd2d8dd77>\u001b[0m in \u001b[0;36m<cell line: 2>\u001b[0;34m()\u001b[0m\n\u001b[1;32m      1\u001b[0m \u001b[0;31m#drop duplicates\u001b[0m\u001b[0;34m\u001b[0m\u001b[0;34m\u001b[0m\u001b[0m\n\u001b[0;32m----> 2\u001b[0;31m \u001b[0mheight_weight\u001b[0m\u001b[0;34m.\u001b[0m\u001b[0mdrop_duplicates\u001b[0m\u001b[0;34m(\u001b[0m\u001b[0minplace\u001b[0m \u001b[0;34m=\u001b[0m \u001b[0;32mTrue\u001b[0m\u001b[0;34m)\u001b[0m\u001b[0;34m\u001b[0m\u001b[0;34m\u001b[0m\u001b[0m\n\u001b[0m",
            "\u001b[0;31mNameError\u001b[0m: name 'height_weight' is not defined"
          ]
        }
      ]
    },
    {
      "cell_type": "code",
      "source": [
        "#output duplicate values\n",
        "column_names = [\"first_name\", \"last_name\", \"address\"]\n",
        "duplicates = height_weight.duplicated(subset = column_names, keep = False)\n",
        "height_weight[duplicates].sort_values(by = \"first_name\")"
      ],
      "metadata": {
        "id": "iHeTk9R_nPKF"
      },
      "execution_count": null,
      "outputs": []
    },
    {
      "cell_type": "markdown",
      "source": [
        "### How to treat duplicate values\n",
        "- The groupby() and .agg() methods"
      ],
      "metadata": {
        "id": "LPYM7Udcn5V_"
      }
    },
    {
      "cell_type": "code",
      "source": [
        "#group by column names and produce statistical summaries\n",
        "column_names = [\"first_name\", \"last_name\", \"address\"]\n",
        "summaries = {\"height\": \"max\", \"weight\": \"mean\"}\n",
        "height_weight = height_weight.groupby(by = column_names).agg(summaries).reset_index()\n"
      ],
      "metadata": {
        "id": "71t3ghL1n9hd"
      },
      "execution_count": null,
      "outputs": []
    },
    {
      "cell_type": "code",
      "source": [
        "#make sure aggregation is done\n",
        "duplicates = height_weight.duplicated(subset = column_names, keep = False)\n",
        "height_weight[duplicates].sort_vales(by = \"first_name\")"
      ],
      "metadata": {
        "id": "-JLtASpOob4n"
      },
      "execution_count": null,
      "outputs": []
    },
    {
      "cell_type": "markdown",
      "source": [
        "### Exercise \n",
        "- Find duplicated rows of ride_id in the ride_sharing DataFrame while setting keep to False.\n",
        "- Subset ride_sharing on duplicates and sort by ride_id and assign the results to duplicated_rides.\n",
        "- Print the ride_id, duration and user_birth_year columns of duplicated_rides in that order."
      ],
      "metadata": {
        "id": "X-wniMswqDXv"
      }
    },
    {
      "cell_type": "code",
      "source": [
        "# Find duplicates\n",
        "duplicates = ride_sharing.duplicated(subset = 'ride_id', keep = False)\n",
        "\n",
        "# Sort your duplicated rides\n",
        "duplicated_rides = ride_sharing[duplicates].sort_values('ride_id')\n",
        "\n",
        "# Print relevant columns\n",
        "print(duplicated_rides[['ride_id','duration','user_birth_year']])"
      ],
      "metadata": {
        "id": "WQPK9v7RqFpV"
      },
      "execution_count": null,
      "outputs": []
    }
  ]
}